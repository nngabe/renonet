{
 "cells": [
  {
   "cell_type": "code",
   "execution_count": null,
   "id": "7d374c9e",
   "metadata": {},
   "outputs": [],
   "source": [
    "%run kuramoto.py --dt 2e-3 --N 5000 --steps 20000 --periods 2 --K 5.0 --precision 1e-16 --a .333 --d .333 "
   ]
  }
 ],
 "metadata": {
  "kernelspec": {
   "display_name": "Python 3 (ipykernel)",
   "language": "python",
   "name": "python3"
  },
  "language_info": {
   "codemirror_mode": {
    "name": "ipython",
    "version": 3
   },
   "file_extension": ".py",
   "mimetype": "text/x-python",
   "name": "python",
   "nbconvert_exporter": "python",
   "pygments_lexer": "ipython3",
   "version": "3.9.13"
  }
 },
 "nbformat": 4,
 "nbformat_minor": 5
}
